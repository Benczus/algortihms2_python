{
 "cells": [
  {
   "cell_type": "code",
   "execution_count": 62,
   "metadata": {},
   "outputs": [],
   "source": [
    "class ListNode:\n",
    "    def __init__(self, value):\n",
    "        self.pointer = None\n",
    "        self.data = value\n",
    "        "
   ]
  },
  {
   "cell_type": "code",
   "execution_count": 63,
   "metadata": {},
   "outputs": [],
   "source": [
    "l= ListNode(5)"
   ]
  },
  {
   "cell_type": "code",
   "execution_count": 64,
   "metadata": {},
   "outputs": [
    {
     "data": {
      "text/plain": [
       "<__main__.ListNode at 0x7fd37470e6d8>"
      ]
     },
     "execution_count": 64,
     "metadata": {},
     "output_type": "execute_result"
    }
   ],
   "source": [
    "l"
   ]
  },
  {
   "cell_type": "code",
   "execution_count": 65,
   "metadata": {},
   "outputs": [
    {
     "data": {
      "text/plain": [
       "5"
      ]
     },
     "execution_count": 65,
     "metadata": {},
     "output_type": "execute_result"
    }
   ],
   "source": [
    "l.data"
   ]
  },
  {
   "cell_type": "code",
   "execution_count": 66,
   "metadata": {},
   "outputs": [],
   "source": [
    "l.pointer"
   ]
  },
  {
   "cell_type": "code",
   "execution_count": 89,
   "metadata": {},
   "outputs": [],
   "source": [
    "class LinkedList:\n",
    "    def __init__(self, node = None):\n",
    "        self.start_node = node\n",
    "        \n",
    "    \n",
    "    def traverse(self):\n",
    "        if self.start_node is None:\n",
    "            print(\"List has no elements!\")\n",
    "            return\n",
    "        n= self.start_node\n",
    "        while n is not None:\n",
    "            n = n.pointer\n",
    "        print(\"List traversed\")\n",
    "        return\n",
    "    \n",
    "    def insert_at_start(self, value):\n",
    "        new_node= ListNode(value)\n",
    "        new_node.pointer = self.start_node\n",
    "        self.start_node = new_node\n",
    "        \n",
    "    def insert_at_end(self, value):\n",
    "        new_node=ListNode(value)\n",
    "        if self.start_node is None:\n",
    "            insert_at_start(value)\n",
    "            return True\n",
    "        n = self.start_node\n",
    "        while n.pointer is not None:\n",
    "            n = n.pointer\n",
    "        n.pointer = new_node\n",
    "    \n",
    "    def count_nodes(self):\n",
    "        n=self.start_node\n",
    "        counter=0\n",
    "        while n is not None:\n",
    "            n= n.pointer\n",
    "            counter+=1\n",
    "        return counter\n",
    "    \n",
    "    def make_new_list(self):\n",
    "        num_elements=int(input(\"Please enter the number of elements in the new list\"))\n",
    "        self.start_node = None\n",
    "        if num_elements == 0:\n",
    "            return True\n",
    "        for i in range(num_elements):\n",
    "            value= int(input(\"Please input the value of the node\"))\n",
    "            self.insert_at_start(value)\n",
    "        return True\n",
    "    \n",
    "    def element_search(self, value):\n",
    "        if self.start_node is None:\n",
    "            print(\"Empty List!\")\n",
    "            return False\n",
    "        n=self.start_node\n",
    "        while n is not None:\n",
    "            if n.data == value:\n",
    "                return n\n",
    "            n= n.pointer\n",
    "        return False\n",
    "        \n",
    "    def insert_after_element(self, value, element_value):\n",
    "        if self.start_node is None:\n",
    "            print(\"Empty list!\")\n",
    "            return False\n",
    "        n=self.element_search(element_value)\n",
    "        if n is False:\n",
    "            return False\n",
    "        new_element= ListNode(value)\n",
    "        new_element.pointer= n.pointer\n",
    "        n.pointer= new_element\n",
    "        return True\n",
    "\n",
    "    def insert_at_index(self, value, index):\n",
    "        if index == 1:\n",
    "            self.insert_at_start(value)\n",
    "            return\n",
    "        if index < 1:\n",
    "            return(\"Invalid Index\")\n",
    "        if index > self.count_nodes()+1:\n",
    "            return(\"Index out of bounds!\")\n",
    "        if index == self.count_nodes()+1:\n",
    "            self.insert_at_end(value)\n",
    "        \n",
    "        i=1\n",
    "        n=self.start_node\n",
    "        while i < index-1:\n",
    "            n = n.pointer\n",
    "            i+=1\n",
    "        new_node= ListNode(value)\n",
    "        new_node.pointer = n.pointer\n",
    "        n.pointer= new_node\n",
    "        \n",
    "        \n",
    "        \n",
    "\n",
    "    "
   ]
  },
  {
   "cell_type": "code",
   "execution_count": 90,
   "metadata": {},
   "outputs": [],
   "source": [
    "list= LinkedList()"
   ]
  },
  {
   "cell_type": "code",
   "execution_count": 91,
   "metadata": {},
   "outputs": [
    {
     "name": "stdout",
     "output_type": "stream",
     "text": [
      "Please enter the number of elements in the new list5\n",
      "Please input the value of the node1\n",
      "Please input the value of the node2\n",
      "Please input the value of the node3\n",
      "Please input the value of the node4\n",
      "Please input the value of the node5\n"
     ]
    },
    {
     "data": {
      "text/plain": [
       "True"
      ]
     },
     "execution_count": 91,
     "metadata": {},
     "output_type": "execute_result"
    }
   ],
   "source": [
    "list.make_new_list()"
   ]
  },
  {
   "cell_type": "code",
   "execution_count": 93,
   "metadata": {},
   "outputs": [
    {
     "data": {
      "text/plain": [
       "6"
      ]
     },
     "execution_count": 93,
     "metadata": {},
     "output_type": "execute_result"
    }
   ],
   "source": [
    "list.count_nodes()"
   ]
  },
  {
   "cell_type": "code",
   "execution_count": 85,
   "metadata": {},
   "outputs": [
    {
     "data": {
      "text/plain": [
       "<__main__.ListNode at 0x7fd37436fcf8>"
      ]
     },
     "execution_count": 85,
     "metadata": {},
     "output_type": "execute_result"
    }
   ],
   "source": [
    "list.element_search(3)"
   ]
  },
  {
   "cell_type": "code",
   "execution_count": 87,
   "metadata": {},
   "outputs": [
    {
     "data": {
      "text/plain": [
       "False"
      ]
     },
     "execution_count": 87,
     "metadata": {},
     "output_type": "execute_result"
    }
   ],
   "source": [
    "list.insert_after_element(5,8)"
   ]
  },
  {
   "cell_type": "code",
   "execution_count": 47,
   "metadata": {},
   "outputs": [],
   "source": [
    "list.start_node.pointer.pointer.pointer = ListNode(12)"
   ]
  },
  {
   "cell_type": "code",
   "execution_count": 48,
   "metadata": {},
   "outputs": [
    {
     "data": {
      "text/plain": [
       "<__main__.ListNode at 0x7f2eebc97b70>"
      ]
     },
     "execution_count": 48,
     "metadata": {},
     "output_type": "execute_result"
    }
   ],
   "source": [
    "list.start_node.pointer.pointer.pointer"
   ]
  },
  {
   "cell_type": "code",
   "execution_count": 92,
   "metadata": {},
   "outputs": [],
   "source": [
    "list.insert_at_index(9, 4)"
   ]
  },
  {
   "cell_type": "code",
   "execution_count": 50,
   "metadata": {},
   "outputs": [
    {
     "name": "stdout",
     "output_type": "stream",
     "text": [
      "List traversed\n"
     ]
    }
   ],
   "source": [
    "list.traverse()"
   ]
  },
  {
   "cell_type": "code",
   "execution_count": 51,
   "metadata": {},
   "outputs": [],
   "source": [
    "list.insert_at_start(19)"
   ]
  },
  {
   "cell_type": "code",
   "execution_count": 53,
   "metadata": {},
   "outputs": [
    {
     "data": {
      "text/plain": [
       "5"
      ]
     },
     "execution_count": 53,
     "metadata": {},
     "output_type": "execute_result"
    }
   ],
   "source": [
    "list.start_node.pointer.data"
   ]
  },
  {
   "cell_type": "code",
   "execution_count": 1,
   "metadata": {},
   "outputs": [],
   "source": [
    "class BinaryTree:\n",
    "    def __init__(self):\n",
    "        self.root=None"
   ]
  },
  {
   "cell_type": "code",
   "execution_count": 2,
   "metadata": {},
   "outputs": [],
   "source": [
    "class BinaryTreeNode:\n",
    "    def __init__(self, data):\n",
    "        self.data=data\n",
    "        self.left=None\n",
    "        self.right=None\n",
    "        "
   ]
  },
  {
   "cell_type": "code",
   "execution_count": 9,
   "metadata": {},
   "outputs": [],
   "source": [
    "class TreeNode:\n",
    "    def __init__(self, data):\n",
    "        self.data=data\n",
    "        self.children= LinkedList()"
   ]
  },
  {
   "cell_type": "code",
   "execution_count": 12,
   "metadata": {},
   "outputs": [],
   "source": [
    "class Tree:\n",
    "    def __init__(self):\n",
    "        self.root = None\n",
    "        "
   ]
  },
  {
   "cell_type": "code",
   "execution_count": 13,
   "metadata": {},
   "outputs": [],
   "source": [
    "T= Tree()"
   ]
  },
  {
   "cell_type": "code",
   "execution_count": 15,
   "metadata": {},
   "outputs": [],
   "source": [
    "T.root = TreeNode(4)"
   ]
  },
  {
   "cell_type": "code",
   "execution_count": 19,
   "metadata": {},
   "outputs": [],
   "source": [
    "T.root.children.start_node = ListNode(TreeNode(5))"
   ]
  },
  {
   "cell_type": "code",
   "execution_count": 21,
   "metadata": {},
   "outputs": [
    {
     "data": {
      "text/plain": [
       "5"
      ]
     },
     "execution_count": 21,
     "metadata": {},
     "output_type": "execute_result"
    }
   ],
   "source": [
    "T.root.children.start_node.data.data"
   ]
  },
  {
   "cell_type": "code",
   "execution_count": 22,
   "metadata": {},
   "outputs": [],
   "source": [
    "T.root.children.insert_at_start(6)"
   ]
  },
  {
   "cell_type": "code",
   "execution_count": 23,
   "metadata": {},
   "outputs": [],
   "source": [
    "T.root.children.insert_at_start(7)"
   ]
  },
  {
   "cell_type": "code",
   "execution_count": 25,
   "metadata": {},
   "outputs": [],
   "source": [
    "T.root.children.start_node.data = TreeNode(7)"
   ]
  },
  {
   "cell_type": "code",
   "execution_count": 33,
   "metadata": {},
   "outputs": [
    {
     "data": {
      "text/plain": [
       "5"
      ]
     },
     "execution_count": 33,
     "metadata": {},
     "output_type": "execute_result"
    }
   ],
   "source": [
    "T.root.children.start_node.pointer.pointer.data.data"
   ]
  },
  {
   "cell_type": "code",
   "execution_count": null,
   "metadata": {},
   "outputs": [],
   "source": []
  }
 ],
 "metadata": {
  "kernelspec": {
   "display_name": "Python 3",
   "language": "python",
   "name": "python3"
  },
  "language_info": {
   "codemirror_mode": {
    "name": "ipython",
    "version": 3
   },
   "file_extension": ".py",
   "mimetype": "text/x-python",
   "name": "python",
   "nbconvert_exporter": "python",
   "pygments_lexer": "ipython3",
   "version": "3.7.3"
  }
 },
 "nbformat": 4,
 "nbformat_minor": 2
}
